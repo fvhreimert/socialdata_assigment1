{
 "cells": [
  {
   "cell_type": "code",
   "execution_count": 3,
   "metadata": {},
   "outputs": [],
   "source": [
    "import pickle as pkl\n",
    "import numpy as np\n",
    "import matplotlib.pyplot as plt\n",
    "import pandas as pd\n",
    "import seaborn as sns"
   ]
  },
  {
   "cell_type": "code",
   "execution_count": 4,
   "metadata": {},
   "outputs": [
    {
     "data": {
      "text/html": [
       "<svg  width=\"330\" height=\"55\"><rect x=\"0\" y=\"0\" width=\"55\" height=\"55\" style=\"fill:#35193e;stroke-width:2;stroke:rgb(255,255,255)\"/><rect x=\"55\" y=\"0\" width=\"55\" height=\"55\" style=\"fill:#701f57;stroke-width:2;stroke:rgb(255,255,255)\"/><rect x=\"110\" y=\"0\" width=\"55\" height=\"55\" style=\"fill:#ad1759;stroke-width:2;stroke:rgb(255,255,255)\"/><rect x=\"165\" y=\"0\" width=\"55\" height=\"55\" style=\"fill:#e13342;stroke-width:2;stroke:rgb(255,255,255)\"/><rect x=\"220\" y=\"0\" width=\"55\" height=\"55\" style=\"fill:#f37651;stroke-width:2;stroke:rgb(255,255,255)\"/><rect x=\"275\" y=\"0\" width=\"55\" height=\"55\" style=\"fill:#f6b48f;stroke-width:2;stroke:rgb(255,255,255)\"/></svg>"
      ],
      "text/plain": [
       "[(0.20973515, 0.09747934, 0.24238489),\n",
       " (0.43860848, 0.12177004, 0.34119475),\n",
       " (0.67824099, 0.09192342, 0.3504148),\n",
       " (0.8833417, 0.19830556, 0.26014181),\n",
       " (0.95381595, 0.46373781, 0.31769923),\n",
       " (0.96516917, 0.70776351, 0.5606593)]"
      ]
     },
     "execution_count": 4,
     "metadata": {},
     "output_type": "execute_result"
    }
   ],
   "source": [
    "sns.color_palette(\"rocket\")"
   ]
  },
  {
   "cell_type": "code",
   "execution_count": 1,
   "metadata": {},
   "outputs": [
    {
     "ename": "NameError",
     "evalue": "name 'plt' is not defined",
     "output_type": "error",
     "traceback": [
      "\u001b[0;31m---------------------------------------------------------------------------\u001b[0m",
      "\u001b[0;31mNameError\u001b[0m                                 Traceback (most recent call last)",
      "Cell \u001b[0;32mIn[1], line 2\u001b[0m\n\u001b[1;32m      1\u001b[0m \u001b[38;5;66;03m# High-resolution rendering\u001b[39;00m\n\u001b[0;32m----> 2\u001b[0m \u001b[43mplt\u001b[49m\u001b[38;5;241m.\u001b[39mrcParams[\u001b[38;5;124m'\u001b[39m\u001b[38;5;124mfigure.dpi\u001b[39m\u001b[38;5;124m'\u001b[39m] \u001b[38;5;241m=\u001b[39m \u001b[38;5;241m300\u001b[39m\n\u001b[1;32m      4\u001b[0m \u001b[38;5;66;03m# Seaborn context and style for a talk-like, publication-quality look\u001b[39;00m\n\u001b[1;32m      5\u001b[0m sns\u001b[38;5;241m.\u001b[39mset_context(\u001b[38;5;124m\"\u001b[39m\u001b[38;5;124mtalk\u001b[39m\u001b[38;5;124m\"\u001b[39m, font_scale\u001b[38;5;241m=\u001b[39m\u001b[38;5;241m1.1\u001b[39m)\n",
      "\u001b[0;31mNameError\u001b[0m: name 'plt' is not defined"
     ]
    }
   ],
   "source": [
    "# High-resolution rendering\n",
    "plt.rcParams['figure.dpi'] = 300\n",
    "\n",
    "# Seaborn context and style for a talk-like, publication-quality look\n",
    "sns.set_context(\"talk\", font_scale=1.1)\n",
    "sns.set_style(\"whitegrid\")\n",
    "\n",
    "# Global font and axis settings\n",
    "plt.rcParams.update({\n",
    "    'font.family': 'Arial',\n",
    "    'axes.labelsize': 14,\n",
    "    'xtick.labelsize': 12,\n",
    "    'ytick.labelsize': 12\n",
    "})\n",
    "\n",
    "# --- FacetGrid-specific configuration (if applicable) ---\n",
    "# Facet layout: col_wrap=2, height=4, aspect=2.5, with independent axes (sharex=False, sharey=False)\n",
    "# In each facet:\n",
    "#   - Remove top/right spines: sns.despine()\n",
    "#   - Rotate x-axis labels by 45° for readability\n",
    "# Main title for the overall figure:\n",
    "#   - Example: \"Number of Crimes per Year for Focus Crimes\" with fontsize=22, bold, y-offset=1.02\n",
    "\n",
    "# Consistent color extraction from the 'rocket' palette\n",
    "rocket_color = sns.color_palette(\"rocket\")"
   ]
  }
 ],
 "metadata": {
  "kernelspec": {
   "display_name": "anaconda_environment_1",
   "language": "python",
   "name": "python3"
  },
  "language_info": {
   "codemirror_mode": {
    "name": "ipython",
    "version": 3
   },
   "file_extension": ".py",
   "mimetype": "text/x-python",
   "name": "python",
   "nbconvert_exporter": "python",
   "pygments_lexer": "ipython3",
   "version": "3.11.9"
  }
 },
 "nbformat": 4,
 "nbformat_minor": 2
}
