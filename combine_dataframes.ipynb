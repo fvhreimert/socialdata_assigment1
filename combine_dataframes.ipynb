{
 "cells": [
  {
   "cell_type": "code",
   "execution_count": 10,
   "metadata": {},
   "outputs": [],
   "source": [
    "import pandas as pd\n",
    "import numpy as np\n",
    "import pickle as pkl"
   ]
  },
  {
   "cell_type": "code",
   "execution_count": 11,
   "metadata": {},
   "outputs": [],
   "source": [
    "df1 = pd.read_csv('../../data1.csv')"
   ]
  },
  {
   "cell_type": "code",
   "execution_count": 12,
   "metadata": {},
   "outputs": [],
   "source": [
    "df2 = pd.read_csv('../../data2.csv')"
   ]
  },
  {
   "cell_type": "code",
   "execution_count": 21,
   "metadata": {},
   "outputs": [
    {
     "name": "stdout",
     "output_type": "stream",
     "text": [
      "Max date of df1: 2017-12-31 00:00:00\n",
      "Min date of df2: 2018-01-01 00:00:00\n"
     ]
    }
   ],
   "source": [
    "# Remove date overlap between the dataframes\n",
    "\n",
    "df1['Date'] = pd.to_datetime(df1['Date'])\n",
    "df2['Incident Date'] = pd.to_datetime(df2['Incident Date'])\n",
    "\n",
    "# Get max date from df1 and min date from df2\n",
    "max_date = df1['Date'].max()\n",
    "print('Max date of df1:', max_date)\n",
    "min_date = df2['Incident Date'].min()\n",
    "print('Min date of df2:', min_date)\n",
    "\n",
    "# Filter out rows in df1 where the Date is greater than or equal to min_date\n",
    "df1 = df1[df1['Date'] < min_date]\n"
   ]
  },
  {
   "cell_type": "code",
   "execution_count": 22,
   "metadata": {},
   "outputs": [
    {
     "name": "stdout",
     "output_type": "stream",
     "text": [
      "37\n",
      "49\n"
     ]
    }
   ],
   "source": [
    "# Find number of unique number of categories from the 'Category' column\n",
    "print(df1['Category'].nunique())\n",
    "print(df2['Incident Category'].nunique())"
   ]
  },
  {
   "cell_type": "code",
   "execution_count": 24,
   "metadata": {},
   "outputs": [],
   "source": [
    "cols_to_keep_df1 = ['Category', 'Date', 'Time', 'PdDistrict', 'X', 'Y', 'Descript']\n",
    "cols_to_keep_df2 = ['Incident Category','Incident Date','Incident Time','Police District','Latitude','Longitude','Incident Description']"
   ]
  },
  {
   "cell_type": "code",
   "execution_count": 25,
   "metadata": {},
   "outputs": [],
   "source": [
    "df1_relevant = df1[cols_to_keep_df1]\n",
    "df2_relevant = df2[cols_to_keep_df2]"
   ]
  },
  {
   "cell_type": "code",
   "execution_count": 26,
   "metadata": {},
   "outputs": [],
   "source": [
    "category_mapping = {\n",
    "    \"Larceny Theft\": \"LARCENY/THEFT\",\n",
    "    \"Recovered Vehicle\": \"RECOVERED VEHICLE\",\n",
    "    # \"Lost Property\": no corresponding category\n",
    "    \"Drug Violation\": \"DRUG/NARCOTIC\",\n",
    "    \"Assault\": \"ASSAULT\",\n",
    "    \"Malicious Mischief\": \"VANDALISM\",\n",
    "    \"Non-Criminal\": \"NON-CRIMINAL\",\n",
    "    \"Fraud\": \"FRAUD\",\n",
    "    \"Warrant\": \"WARRANTS\",\n",
    "    \"Other Offenses\": \"OTHER OFFENSES\",\n",
    "    \"Robbery\": \"ROBBERY\",\n",
    "    # \"Case Closure\": no corresponding category\n",
    "    \"Stolen Property\": \"STOLEN PROPERTY\",\n",
    "    \"Other Miscellaneous\": \"OTHER OFFENSES\",\n",
    "    \"Other\": \"OTHER OFFENSES\",\n",
    "    # \"Traffic Collision\": no corresponding category\n",
    "    \"Suspicious Occ\": \"SUSPICIOUS OCC\",\n",
    "    \"Disorderly Conduct\": \"DISORDERLY CONDUCT\",\n",
    "    \"Weapons Carrying Etc\": \"WEAPON LAWS\",\n",
    "    \"Rape\": \"SEX OFFENSES, FORCIBLE\",\n",
    "    \"Drug Offense\": \"DRUG/NARCOTIC\",\n",
    "    \"Missing Person\": \"MISSING PERSON\",\n",
    "    \"Motor Vehicle Theft\": \"VEHICLE THEFT\",\n",
    "    \"Burglary\": \"BURGLARY\",\n",
    "    \"Fire Report\": \"ARSON\",  # assuming these refer to arson-related incidents\n",
    "    \"Arson\": \"ARSON\",\n",
    "    \"Vandalism\": \"VANDALISM\",\n",
    "    \"Suicide\": \"SUICIDE\",\n",
    "    # \"Traffic Violation Arrest\": no corresponding category\n",
    "    # \"Courtesy Report\": no corresponding category\n",
    "    # \"Offences Against The Family And Children\": no corresponding category\n",
    "    \"Forgery And Counterfeiting\": \"FORGERY/COUNTERFEITING\",\n",
    "    # \"Miscellaneous Investigation\": no corresponding category\n",
    "    \"Sex Offense\": \"SEX OFFENSES, NON FORCIBLE\",\n",
    "    \"Weapons Offense\": \"WEAPON LAWS\",\n",
    "    # \"Vehicle Misplaced\": no corresponding category\n",
    "    \"Suspicious\": \"SUSPICIOUS OCC\",\n",
    "    \"Prostitution\": \"PROSTITUTION\",\n",
    "    # \"Vehicle Impounded\": no corresponding category\n",
    "    \"Embezzlement\": \"EMBEZZLEMENT\",\n",
    "    \"Gambling\": \"GAMBLING\",\n",
    "    # \"Homicide\": no corresponding category\n",
    "    # \"Human Trafficking, Commercial Sex Acts\": no corresponding category\n",
    "    \"Liquor Laws\": \"LIQUOR LAWS\",\n",
    "    # \"Human Trafficking (A), Commercial Sex Acts\": no corresponding category\n",
    "    # \"Civil Sidewalks\": no corresponding category\n",
    "    \"Motor Vehicle Theft?\": \"VEHICLE THEFT\",\n",
    "    \"Weapons Offence\": \"WEAPON LAWS\",\n",
    "    # \"Human Trafficking (B), Involuntary Servitude\": no corresponding category\n",
    "}\n"
   ]
  },
  {
   "cell_type": "code",
   "execution_count": 27,
   "metadata": {},
   "outputs": [],
   "source": [
    "# Assume df2_relevant has been processed as follows:\n",
    "df2_relevant = df2[cols_to_keep_df2].copy()\n",
    "df2_relevant['Incident Category'] = df2_relevant['Incident Category'].map(category_mapping)\n",
    "df2_relevant = df2_relevant.dropna(subset=['Incident Category'])\n",
    "valid_categories_df1 = df1['Category'].unique()\n",
    "df2_relevant = df2_relevant[df2_relevant['Incident Category'].isin(valid_categories_df1)]\n",
    "df2_relevant = df2_relevant.rename(columns={\n",
    "    'Incident Category': 'Category',\n",
    "    'Incident Date': 'Date',\n",
    "    'Incident Time': 'Time',\n",
    "    'Police District': 'PdDistrict',\n",
    "    'Latitude': 'X',\n",
    "    'Longitude': 'Y',\n",
    "    'Incident Description': 'Descript'\n",
    "})\n",
    "\n",
    "# Identify the common categories between df1 and df2_relevant:\n",
    "common_categories = set(df1['Category'].unique()).intersection(df2_relevant['Category'].unique())\n",
    "\n",
    "# Filter df1 to only keep categories that are also in df2_relevant:\n",
    "df1_relevant = df1[df1['Category'].isin(common_categories)]\n",
    "\n",
    "# (Optional) Ensure df2_relevant also only has the common categories:\n",
    "df2_relevant = df2_relevant[df2_relevant['Category'].isin(common_categories)]\n"
   ]
  },
  {
   "cell_type": "code",
   "execution_count": 28,
   "metadata": {},
   "outputs": [
    {
     "name": "stdout",
     "output_type": "stream",
     "text": [
      "TRESPASS\n",
      "SECONDARY CODES\n",
      "KIDNAPPING\n",
      "DRUNKENNESS\n",
      "BAD CHECKS\n",
      "DRIVING UNDER THE INFLUENCE\n",
      "LOITERING\n",
      "BRIBERY\n",
      "EXTORTION\n",
      "PORNOGRAPHY/OBSCENE MAT\n",
      "TREA\n"
     ]
    }
   ],
   "source": [
    "# Categories from df1 that was not mapped to a category in df2\n",
    "for cat in df1['Category'].unique():\n",
    "    if cat not in df2_relevant['Category'].unique():\n",
    "        print(cat)"
   ]
  },
  {
   "cell_type": "code",
   "execution_count": 29,
   "metadata": {},
   "outputs": [],
   "source": [
    "cols = ['Category', 'Date', 'Time', 'PdDistrict', 'X', 'Y', 'Descript']\n",
    "df2_aligned = df2_relevant[cols]\n",
    "df1_aligned = df1_relevant[cols]"
   ]
  },
  {
   "cell_type": "code",
   "execution_count": 30,
   "metadata": {},
   "outputs": [
    {
     "name": "stderr",
     "output_type": "stream",
     "text": [
      "/var/folders/sv/_w7_lr4s79bd9y8fpvjxy5d80000gn/T/ipykernel_62805/1577322905.py:2: SettingWithCopyWarning: \n",
      "A value is trying to be set on a copy of a slice from a DataFrame.\n",
      "Try using .loc[row_indexer,col_indexer] = value instead\n",
      "\n",
      "See the caveats in the documentation: https://pandas.pydata.org/pandas-docs/stable/user_guide/indexing.html#returning-a-view-versus-a-copy\n",
      "  df1_aligned['Date'] = pd.to_datetime(df1_aligned['Date'], format='%m/%d/%Y')\n"
     ]
    }
   ],
   "source": [
    "# Convert df1_aligned['Date'] from 'MM/DD/YYYY' to datetime\n",
    "df1_aligned['Date'] = pd.to_datetime(df1_aligned['Date'], format='%m/%d/%Y')\n",
    "\n",
    "# Convert df2_aligned['Date'] from 'YYYY/MM/DD' to datetime\n",
    "df2_aligned['Date'] = pd.to_datetime(df2_aligned['Date'], format='%Y/%m/%d')\n"
   ]
  },
  {
   "cell_type": "code",
   "execution_count": 31,
   "metadata": {},
   "outputs": [],
   "source": [
    "# Concatenate both DataFrames\n",
    "combined_df = pd.concat([df1_aligned, df2_aligned], ignore_index=True)\n",
    "\n",
    "# Ensure consistent format (optional)\n",
    "combined_df['Date'] = combined_df['Date'].dt.strftime('%Y-%m-%d')\n"
   ]
  },
  {
   "cell_type": "code",
   "execution_count": 32,
   "metadata": {},
   "outputs": [],
   "source": [
    "# Merge Dataframes\n",
    "combined_df = pd.concat([df1_aligned, df2_aligned], ignore_index=True)"
   ]
  },
  {
   "cell_type": "code",
   "execution_count": 33,
   "metadata": {},
   "outputs": [
    {
     "data": {
      "text/plain": [
       "26"
      ]
     },
     "execution_count": 33,
     "metadata": {},
     "output_type": "execute_result"
    }
   ],
   "source": [
    "len(combined_df[\"Category\"].unique())"
   ]
  },
  {
   "cell_type": "code",
   "execution_count": 34,
   "metadata": {},
   "outputs": [],
   "source": [
    "combined_df.to_pickle('combined_df.pkl')"
   ]
  },
  {
   "cell_type": "code",
   "execution_count": null,
   "metadata": {},
   "outputs": [],
   "source": []
  }
 ],
 "metadata": {
  "kernelspec": {
   "display_name": "anaconda_environment_1",
   "language": "python",
   "name": "python3"
  },
  "language_info": {
   "codemirror_mode": {
    "name": "ipython",
    "version": 3
   },
   "file_extension": ".py",
   "mimetype": "text/x-python",
   "name": "python",
   "nbconvert_exporter": "python",
   "pygments_lexer": "ipython3",
   "version": "3.11.9"
  }
 },
 "nbformat": 4,
 "nbformat_minor": 2
}
